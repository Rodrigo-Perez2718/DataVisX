{
 "cells": [
  {
   "cell_type": "markdown",
   "id": "f35b8b44",
   "metadata": {},
   "source": [
    "# GRAFICA DE FORMA HORIZONTAL CON TABLA A LA IZQUIERDA"
   ]
  },
  {
   "cell_type": "code",
   "execution_count": 1,
   "id": "6d20b3fb",
   "metadata": {},
   "outputs": [
    {
     "ename": "SystemExit",
     "evalue": "0",
     "output_type": "error",
     "traceback": [
      "An exception has occurred, use %tb to see the full traceback.\n",
      "\u001b[0;31mSystemExit\u001b[0m\u001b[0;31m:\u001b[0m 0\n"
     ]
    },
    {
     "name": "stderr",
     "output_type": "stream",
     "text": [
      "/home/javier/.local/lib/python3.10/site-packages/IPython/core/interactiveshell.py:3468: UserWarning: To exit: use 'exit', 'quit', or Ctrl-D.\n",
      "  warn(\"To exit: use 'exit', 'quit', or Ctrl-D.\", stacklevel=1)\n"
     ]
    }
   ],
   "source": [
    "import sys\n",
    "import pandas as pd\n",
    "import matplotlib.pyplot as plt\n",
    "from PyQt5.QtWidgets import QApplication, QMainWindow, QMenuBar, QMenu, QAction, QFileDialog, QTableWidget, QTableWidgetItem, QComboBox, QHBoxLayout, QPushButton, QWidget\n",
    "from PyQt5.QtCore import Qt\n",
    "from matplotlib.backends.backend_qt5agg import FigureCanvasQTAgg as FigureCanvas\n",
    "from matplotlib.figure import Figure\n",
    "\n",
    "\n",
    "class MainWindow(QMainWindow):\n",
    "    def __init__(self):\n",
    "        super().__init__()\n",
    "        self.setWindowTitle(\"DataVisX\")\n",
    "        self.setMinimumSize(800, 600)\n",
    "        \n",
    "        self.create_menu_bar()\n",
    "        self.create_widgets()\n",
    "        self.create_layout()\n",
    "        \n",
    "        self.data_frame = None\n",
    "        \n",
    "    def create_menu_bar(self):\n",
    "        menu_bar = self.menuBar()\n",
    "        \n",
    "        file_menu = QMenu(\"Archivo\", self)\n",
    "        menu_bar.addMenu(file_menu)\n",
    "        \n",
    "        open_action = QAction(\"Abrir archivo\", self)\n",
    "        open_action.triggered.connect(self.open_file_dialog)\n",
    "        file_menu.addAction(open_action)\n",
    "    \n",
    "    def create_widgets(self):\n",
    "        self.table_widget = QTableWidget(self)\n",
    "        \n",
    "        self.x_selector = QComboBox(self)\n",
    "        self.y_selector = QComboBox(self)\n",
    "        \n",
    "        self.plot_button = QPushButton(\"Actualizar Gráfico\", self)\n",
    "        self.plot_button.clicked.connect(self.update_graph)\n",
    "        \n",
    "        self.figure = Figure()\n",
    "        self.canvas = FigureCanvas(self.figure)\n",
    "        \n",
    "    def create_layout(self):\n",
    "        central_widget = QWidget(self)\n",
    "        layout = QHBoxLayout(central_widget)\n",
    "        \n",
    "        layout.addWidget(self.table_widget)\n",
    "        \n",
    "        selector_layout = QHBoxLayout()\n",
    "        selector_layout.addWidget(self.x_selector)\n",
    "        selector_layout.addWidget(self.y_selector)\n",
    "        selector_layout.addWidget(self.plot_button)\n",
    "        layout.addLayout(selector_layout)\n",
    "        \n",
    "        layout.addWidget(self.canvas)\n",
    "        \n",
    "        self.setCentralWidget(central_widget)\n",
    "    \n",
    "    def open_file_dialog(self):\n",
    "        options = QFileDialog.Options()\n",
    "        file_path, _ = QFileDialog.getOpenFileName(self, \"Seleccionar archivo\", \"\", \"CSV Files (*.csv)\", options=options)\n",
    "        \n",
    "        if file_path:\n",
    "            self.data_frame = pd.read_csv(file_path)\n",
    "            self.display_data_frame()\n",
    "    \n",
    "    def display_data_frame(self):\n",
    "        self.table_widget.clear()\n",
    "        self.x_selector.clear()\n",
    "        self.y_selector.clear()\n",
    "        self.table_widget.setColumnCount(0)\n",
    "        self.table_widget.setRowCount(0)\n",
    "        \n",
    "        if self.data_frame is not None:\n",
    "            num_rows, num_cols = self.data_frame.shape\n",
    "            self.table_widget.setRowCount(num_rows)\n",
    "            self.table_widget.setColumnCount(num_cols)\n",
    "            \n",
    "            self.x_selector.addItems(self.data_frame.columns)\n",
    "            self.y_selector.addItems(self.data_frame.columns)\n",
    "            \n",
    "            for i in range(num_rows):\n",
    "                for j in range(num_cols):\n",
    "                    item = QTableWidgetItem(str(self.data_frame.iat[i, j]))\n",
    "                    self.table_widget.setItem(i, j, item)\n",
    "    \n",
    "    def update_graph(self):\n",
    "        x_column = self.x_selector.currentText()\n",
    "        y_column = self.y_selector.currentText()\n",
    "        \n",
    "        if x_column and y_column and self.data_frame is not None:\n",
    "            self.figure.clear()\n",
    "            ax = self.figure.add_subplot(111)\n",
    "            \n",
    "            ax.plot(self.data_frame[x_column], self.data_frame[y_column], marker='o', linestyle='')\n",
    "            \n",
    "            ax.set_xlabel(x_column)\n",
    "            ax.set_ylabel(y_column)\n",
    "            \n",
    "            ax.grid(linestyle=\"--\")\n",
    "            \n",
    "            self.canvas.draw()\n",
    "    \n",
    "\n",
    "if __name__ == \"__main__\":\n",
    "    app = QApplication(sys.argv)\n",
    "    window = MainWindow()\n",
    "    window.show()\n",
    "    sys.exit(app.exec_())\n"
   ]
  },
  {
   "cell_type": "markdown",
   "id": "b4eda45b",
   "metadata": {},
   "source": [
    "# GRAFICA DE FORMA VERTICAL CON LA TABLA ARRIBA"
   ]
  },
  {
   "cell_type": "code",
   "execution_count": 2,
   "id": "3541dfe1",
   "metadata": {},
   "outputs": [
    {
     "ename": "NameError",
     "evalue": "name 'QVBoxLayout' is not defined",
     "output_type": "error",
     "traceback": [
      "\u001b[0;31m---------------------------------------------------------------------------\u001b[0m",
      "\u001b[0;31mNameError\u001b[0m                                 Traceback (most recent call last)",
      "Cell \u001b[0;32mIn[2], line 106\u001b[0m\n\u001b[1;32m    104\u001b[0m \u001b[38;5;28;01mif\u001b[39;00m \u001b[38;5;18m__name__\u001b[39m \u001b[38;5;241m==\u001b[39m \u001b[38;5;124m\"\u001b[39m\u001b[38;5;124m__main__\u001b[39m\u001b[38;5;124m\"\u001b[39m:\n\u001b[1;32m    105\u001b[0m     app \u001b[38;5;241m=\u001b[39m QApplication(sys\u001b[38;5;241m.\u001b[39margv)\n\u001b[0;32m--> 106\u001b[0m     window \u001b[38;5;241m=\u001b[39m \u001b[43mMainWindow\u001b[49m\u001b[43m(\u001b[49m\u001b[43m)\u001b[49m\n\u001b[1;32m    107\u001b[0m     window\u001b[38;5;241m.\u001b[39mshow()\n\u001b[1;32m    108\u001b[0m     sys\u001b[38;5;241m.\u001b[39mexit(app\u001b[38;5;241m.\u001b[39mexec_())\n",
      "Cell \u001b[0;32mIn[2], line 18\u001b[0m, in \u001b[0;36mMainWindow.__init__\u001b[0;34m(self)\u001b[0m\n\u001b[1;32m     16\u001b[0m \u001b[38;5;28mself\u001b[39m\u001b[38;5;241m.\u001b[39mcreate_menu_bar()\n\u001b[1;32m     17\u001b[0m \u001b[38;5;28mself\u001b[39m\u001b[38;5;241m.\u001b[39mcreate_widgets()\n\u001b[0;32m---> 18\u001b[0m \u001b[38;5;28;43mself\u001b[39;49m\u001b[38;5;241;43m.\u001b[39;49m\u001b[43mcreate_layout\u001b[49m\u001b[43m(\u001b[49m\u001b[43m)\u001b[49m\n\u001b[1;32m     20\u001b[0m \u001b[38;5;28mself\u001b[39m\u001b[38;5;241m.\u001b[39mdata_frame \u001b[38;5;241m=\u001b[39m \u001b[38;5;28;01mNone\u001b[39;00m\n",
      "Cell \u001b[0;32mIn[2], line 46\u001b[0m, in \u001b[0;36mMainWindow.create_layout\u001b[0;34m(self)\u001b[0m\n\u001b[1;32m     44\u001b[0m \u001b[38;5;28;01mdef\u001b[39;00m \u001b[38;5;21mcreate_layout\u001b[39m(\u001b[38;5;28mself\u001b[39m):\n\u001b[1;32m     45\u001b[0m     central_widget \u001b[38;5;241m=\u001b[39m QWidget(\u001b[38;5;28mself\u001b[39m)\n\u001b[0;32m---> 46\u001b[0m     layout \u001b[38;5;241m=\u001b[39m \u001b[43mQVBoxLayout\u001b[49m(central_widget)\n\u001b[1;32m     48\u001b[0m     layout\u001b[38;5;241m.\u001b[39maddWidget(\u001b[38;5;28mself\u001b[39m\u001b[38;5;241m.\u001b[39mtable_widget)\n\u001b[1;32m     50\u001b[0m     selector_layout \u001b[38;5;241m=\u001b[39m QHBoxLayout()\n",
      "\u001b[0;31mNameError\u001b[0m: name 'QVBoxLayout' is not defined"
     ]
    }
   ],
   "source": [
    "import sys\n",
    "import pandas as pd\n",
    "import matplotlib.pyplot as plt\n",
    "from PyQt5.QtWidgets import QApplication, QMainWindow, QMenuBar, QMenu, QAction, QFileDialog, QTableWidget, QTableWidgetItem, QComboBox, QHBoxLayout, QPushButton, QWidget\n",
    "from PyQt5.QtCore import Qt\n",
    "from matplotlib.backends.backend_qt5agg import FigureCanvasQTAgg as FigureCanvas\n",
    "from matplotlib.figure import Figure\n",
    "\n",
    "\n",
    "class MainWindow(QMainWindow):\n",
    "    def __init__(self):\n",
    "        super().__init__()\n",
    "        self.setWindowTitle(\"Visualización de Datos\")\n",
    "        self.setMinimumSize(800, 600)\n",
    "        \n",
    "        self.create_menu_bar()\n",
    "        self.create_widgets()\n",
    "        self.create_layout()\n",
    "        \n",
    "        self.data_frame = None\n",
    "        \n",
    "    def create_menu_bar(self):\n",
    "        menu_bar = self.menuBar()\n",
    "        \n",
    "        file_menu = QMenu(\"Archivo\", self)\n",
    "        menu_bar.addMenu(file_menu)\n",
    "        \n",
    "        open_action = QAction(\"Abrir archivo\", self)\n",
    "        open_action.triggered.connect(self.open_file_dialog)\n",
    "        file_menu.addAction(open_action)\n",
    "    \n",
    "    def create_widgets(self):\n",
    "        self.table_widget = QTableWidget(self)\n",
    "        \n",
    "        self.x_selector = QComboBox(self)\n",
    "        self.y_selector = QComboBox(self)\n",
    "        \n",
    "        self.plot_button = QPushButton(\"Actualizar Gráfico\", self)\n",
    "        self.plot_button.clicked.connect(self.update_graph)\n",
    "        \n",
    "        self.figure = Figure()\n",
    "        self.canvas = FigureCanvas(self.figure)\n",
    "        \n",
    "    def create_layout(self):\n",
    "        central_widget = QWidget(self)\n",
    "        layout = QVBoxLayout(central_widget)\n",
    "        \n",
    "        layout.addWidget(self.table_widget)\n",
    "        \n",
    "        selector_layout = QHBoxLayout()\n",
    "        selector_layout.addWidget(self.x_selector)\n",
    "        selector_layout.addWidget(self.y_selector)\n",
    "        selector_layout.addWidget(self.plot_button)\n",
    "        layout.addLayout(selector_layout)\n",
    "        \n",
    "        layout.addWidget(self.canvas)\n",
    "        \n",
    "        self.setCentralWidget(central_widget)\n",
    "    \n",
    "    def open_file_dialog(self):\n",
    "        options = QFileDialog.Options()\n",
    "        file_path, _ = QFileDialog.getOpenFileName(self, \"Seleccionar archivo\", \"\", \"CSV Files (*.csv)\", options=options)\n",
    "        \n",
    "        if file_path:\n",
    "            self.data_frame = pd.read_csv(file_path)\n",
    "            self.display_data_frame()\n",
    "    \n",
    "    def display_data_frame(self):\n",
    "        self.table_widget.clear()\n",
    "        self.x_selector.clear()\n",
    "        self.y_selector.clear()\n",
    "        self.table_widget.setColumnCount(0)\n",
    "        self.table_widget.setRowCount(0)\n",
    "        \n",
    "        if self.data_frame is not None:\n",
    "            num_rows, num_cols = self.data_frame.shape\n",
    "            self.table_widget.setRowCount(num_rows)\n",
    "            self.table_widget.setColumnCount(num_cols)\n",
    "            \n",
    "            self.x_selector.addItems(self.data_frame.columns)\n",
    "            self.y_selector.addItems(self.data_frame.columns)\n",
    "            \n",
    "            for i in range(num_rows):\n",
    "                for j in range(num_cols):\n",
    "                    item = QTableWidgetItem(str(self.data_frame.iat[i, j]))\n",
    "                    self.table_widget.setItem(i, j, item)\n",
    "    \n",
    "    def update_graph(self):\n",
    "        x_column = self.x_selector.currentText()\n",
    "        y_column = self.y_selector.currentText()\n",
    "        \n",
    "        if x_column and y_column and self.data_frame is not None:\n",
    "            self.figure.clear()\n",
    "            ax = self.figure.add_subplot(111)\n",
    "            \n",
    "            ax.plot(self.data_frame[x_column], self.data_frame[y_column], marker='o', linestyle='')\n",
    "            \n",
    "            ax.set_xlabel(x_column)\n",
    "            ax.set_ylabel(y_column)\n",
    "            \n",
    "            self.canvas.draw()\n",
    "    \n",
    "\n",
    "if __name__ == \"__main__\":\n",
    "    app = QApplication(sys.argv)\n",
    "    window = MainWindow()\n",
    "    window.show()\n",
    "    sys.exit(app.exec_())\n"
   ]
  },
  {
   "cell_type": "code",
   "execution_count": 2,
   "id": "b8fb9dee",
   "metadata": {},
   "outputs": [
    {
     "ename": "NameError",
     "evalue": "name 'Astrodata' is not defined",
     "output_type": "error",
     "traceback": [
      "\u001b[0;31m---------------------------------------------------------------------------\u001b[0m",
      "\u001b[0;31mNameError\u001b[0m                                 Traceback (most recent call last)",
      "Cell \u001b[0;32mIn[2], line 104\u001b[0m, in \u001b[0;36mMainWindow.update_graph\u001b[0;34m(self)\u001b[0m\n\u001b[1;32m    101\u001b[0m ax\u001b[38;5;241m.\u001b[39mset_ylabel(y_column)\n\u001b[1;32m    103\u001b[0m \u001b[38;5;66;03m# Realizar clustering con los datos y actualizar el gráfico\u001b[39;00m\n\u001b[0;32m--> 104\u001b[0m astrodata \u001b[38;5;241m=\u001b[39m \u001b[43mAstrodata\u001b[49m(x_data, y_data)\n\u001b[1;32m    105\u001b[0m astrodata\u001b[38;5;241m.\u001b[39mKme(n_clusters\u001b[38;5;241m=\u001b[39m\u001b[38;5;241m3\u001b[39m, title\u001b[38;5;241m=\u001b[39m\u001b[38;5;124m\"\u001b[39m\u001b[38;5;124mK-means Clustering\u001b[39m\u001b[38;5;124m\"\u001b[39m, x_label\u001b[38;5;241m=\u001b[39mx_column, y_label\u001b[38;5;241m=\u001b[39my_column)\n\u001b[1;32m    107\u001b[0m \u001b[38;5;28mself\u001b[39m\u001b[38;5;241m.\u001b[39mcanvas\u001b[38;5;241m.\u001b[39mdraw()\n",
      "\u001b[0;31mNameError\u001b[0m: name 'Astrodata' is not defined"
     ]
    },
    {
     "ename": "NameError",
     "evalue": "name 'Astrodata' is not defined",
     "output_type": "error",
     "traceback": [
      "\u001b[0;31m---------------------------------------------------------------------------\u001b[0m",
      "\u001b[0;31mNameError\u001b[0m                                 Traceback (most recent call last)",
      "Cell \u001b[0;32mIn[2], line 104\u001b[0m, in \u001b[0;36mMainWindow.update_graph\u001b[0;34m(self)\u001b[0m\n\u001b[1;32m    101\u001b[0m ax\u001b[38;5;241m.\u001b[39mset_ylabel(y_column)\n\u001b[1;32m    103\u001b[0m \u001b[38;5;66;03m# Realizar clustering con los datos y actualizar el gráfico\u001b[39;00m\n\u001b[0;32m--> 104\u001b[0m astrodata \u001b[38;5;241m=\u001b[39m \u001b[43mAstrodata\u001b[49m(x_data, y_data)\n\u001b[1;32m    105\u001b[0m astrodata\u001b[38;5;241m.\u001b[39mKme(n_clusters\u001b[38;5;241m=\u001b[39m\u001b[38;5;241m3\u001b[39m, title\u001b[38;5;241m=\u001b[39m\u001b[38;5;124m\"\u001b[39m\u001b[38;5;124mK-means Clustering\u001b[39m\u001b[38;5;124m\"\u001b[39m, x_label\u001b[38;5;241m=\u001b[39mx_column, y_label\u001b[38;5;241m=\u001b[39my_column)\n\u001b[1;32m    107\u001b[0m \u001b[38;5;28mself\u001b[39m\u001b[38;5;241m.\u001b[39mcanvas\u001b[38;5;241m.\u001b[39mdraw()\n",
      "\u001b[0;31mNameError\u001b[0m: name 'Astrodata' is not defined"
     ]
    },
    {
     "ename": "NameError",
     "evalue": "name 'Astrodata' is not defined",
     "output_type": "error",
     "traceback": [
      "\u001b[0;31m---------------------------------------------------------------------------\u001b[0m",
      "\u001b[0;31mNameError\u001b[0m                                 Traceback (most recent call last)",
      "Cell \u001b[0;32mIn[2], line 104\u001b[0m, in \u001b[0;36mMainWindow.update_graph\u001b[0;34m(self)\u001b[0m\n\u001b[1;32m    101\u001b[0m ax\u001b[38;5;241m.\u001b[39mset_ylabel(y_column)\n\u001b[1;32m    103\u001b[0m \u001b[38;5;66;03m# Realizar clustering con los datos y actualizar el gráfico\u001b[39;00m\n\u001b[0;32m--> 104\u001b[0m astrodata \u001b[38;5;241m=\u001b[39m \u001b[43mAstrodata\u001b[49m(x_data, y_data)\n\u001b[1;32m    105\u001b[0m astrodata\u001b[38;5;241m.\u001b[39mKme(n_clusters\u001b[38;5;241m=\u001b[39m\u001b[38;5;241m3\u001b[39m, title\u001b[38;5;241m=\u001b[39m\u001b[38;5;124m\"\u001b[39m\u001b[38;5;124mK-means Clustering\u001b[39m\u001b[38;5;124m\"\u001b[39m, x_label\u001b[38;5;241m=\u001b[39mx_column, y_label\u001b[38;5;241m=\u001b[39my_column)\n\u001b[1;32m    107\u001b[0m \u001b[38;5;28mself\u001b[39m\u001b[38;5;241m.\u001b[39mcanvas\u001b[38;5;241m.\u001b[39mdraw()\n",
      "\u001b[0;31mNameError\u001b[0m: name 'Astrodata' is not defined"
     ]
    },
    {
     "ename": "NameError",
     "evalue": "name 'Astrodata' is not defined",
     "output_type": "error",
     "traceback": [
      "\u001b[0;31m---------------------------------------------------------------------------\u001b[0m",
      "\u001b[0;31mNameError\u001b[0m                                 Traceback (most recent call last)",
      "Cell \u001b[0;32mIn[2], line 104\u001b[0m, in \u001b[0;36mMainWindow.update_graph\u001b[0;34m(self)\u001b[0m\n\u001b[1;32m    101\u001b[0m ax\u001b[38;5;241m.\u001b[39mset_ylabel(y_column)\n\u001b[1;32m    103\u001b[0m \u001b[38;5;66;03m# Realizar clustering con los datos y actualizar el gráfico\u001b[39;00m\n\u001b[0;32m--> 104\u001b[0m astrodata \u001b[38;5;241m=\u001b[39m \u001b[43mAstrodata\u001b[49m(x_data, y_data)\n\u001b[1;32m    105\u001b[0m astrodata\u001b[38;5;241m.\u001b[39mKme(n_clusters\u001b[38;5;241m=\u001b[39m\u001b[38;5;241m3\u001b[39m, title\u001b[38;5;241m=\u001b[39m\u001b[38;5;124m\"\u001b[39m\u001b[38;5;124mK-means Clustering\u001b[39m\u001b[38;5;124m\"\u001b[39m, x_label\u001b[38;5;241m=\u001b[39mx_column, y_label\u001b[38;5;241m=\u001b[39my_column)\n\u001b[1;32m    107\u001b[0m \u001b[38;5;28mself\u001b[39m\u001b[38;5;241m.\u001b[39mcanvas\u001b[38;5;241m.\u001b[39mdraw()\n",
      "\u001b[0;31mNameError\u001b[0m: name 'Astrodata' is not defined"
     ]
    },
    {
     "ename": "NameError",
     "evalue": "name 'Astrodata' is not defined",
     "output_type": "error",
     "traceback": [
      "\u001b[0;31m---------------------------------------------------------------------------\u001b[0m",
      "\u001b[0;31mNameError\u001b[0m                                 Traceback (most recent call last)",
      "Cell \u001b[0;32mIn[2], line 104\u001b[0m, in \u001b[0;36mMainWindow.update_graph\u001b[0;34m(self)\u001b[0m\n\u001b[1;32m    101\u001b[0m ax\u001b[38;5;241m.\u001b[39mset_ylabel(y_column)\n\u001b[1;32m    103\u001b[0m \u001b[38;5;66;03m# Realizar clustering con los datos y actualizar el gráfico\u001b[39;00m\n\u001b[0;32m--> 104\u001b[0m astrodata \u001b[38;5;241m=\u001b[39m \u001b[43mAstrodata\u001b[49m(x_data, y_data)\n\u001b[1;32m    105\u001b[0m astrodata\u001b[38;5;241m.\u001b[39mKme(n_clusters\u001b[38;5;241m=\u001b[39m\u001b[38;5;241m3\u001b[39m, title\u001b[38;5;241m=\u001b[39m\u001b[38;5;124m\"\u001b[39m\u001b[38;5;124mK-means Clustering\u001b[39m\u001b[38;5;124m\"\u001b[39m, x_label\u001b[38;5;241m=\u001b[39mx_column, y_label\u001b[38;5;241m=\u001b[39my_column)\n\u001b[1;32m    107\u001b[0m \u001b[38;5;28mself\u001b[39m\u001b[38;5;241m.\u001b[39mcanvas\u001b[38;5;241m.\u001b[39mdraw()\n",
      "\u001b[0;31mNameError\u001b[0m: name 'Astrodata' is not defined"
     ]
    },
    {
     "ename": "NameError",
     "evalue": "name 'Astrodata' is not defined",
     "output_type": "error",
     "traceback": [
      "\u001b[0;31m---------------------------------------------------------------------------\u001b[0m",
      "\u001b[0;31mNameError\u001b[0m                                 Traceback (most recent call last)",
      "Cell \u001b[0;32mIn[2], line 104\u001b[0m, in \u001b[0;36mMainWindow.update_graph\u001b[0;34m(self)\u001b[0m\n\u001b[1;32m    101\u001b[0m ax\u001b[38;5;241m.\u001b[39mset_ylabel(y_column)\n\u001b[1;32m    103\u001b[0m \u001b[38;5;66;03m# Realizar clustering con los datos y actualizar el gráfico\u001b[39;00m\n\u001b[0;32m--> 104\u001b[0m astrodata \u001b[38;5;241m=\u001b[39m \u001b[43mAstrodata\u001b[49m(x_data, y_data)\n\u001b[1;32m    105\u001b[0m astrodata\u001b[38;5;241m.\u001b[39mKme(n_clusters\u001b[38;5;241m=\u001b[39m\u001b[38;5;241m3\u001b[39m, title\u001b[38;5;241m=\u001b[39m\u001b[38;5;124m\"\u001b[39m\u001b[38;5;124mK-means Clustering\u001b[39m\u001b[38;5;124m\"\u001b[39m, x_label\u001b[38;5;241m=\u001b[39mx_column, y_label\u001b[38;5;241m=\u001b[39my_column)\n\u001b[1;32m    107\u001b[0m \u001b[38;5;28mself\u001b[39m\u001b[38;5;241m.\u001b[39mcanvas\u001b[38;5;241m.\u001b[39mdraw()\n",
      "\u001b[0;31mNameError\u001b[0m: name 'Astrodata' is not defined"
     ]
    },
    {
     "ename": "SystemExit",
     "evalue": "0",
     "output_type": "error",
     "traceback": [
      "An exception has occurred, use %tb to see the full traceback.\n",
      "\u001b[0;31mSystemExit\u001b[0m\u001b[0;31m:\u001b[0m 0\n"
     ]
    },
    {
     "name": "stderr",
     "output_type": "stream",
     "text": [
      "/home/javier/.local/lib/python3.10/site-packages/IPython/core/interactiveshell.py:3468: UserWarning: To exit: use 'exit', 'quit', or Ctrl-D.\n",
      "  warn(\"To exit: use 'exit', 'quit', or Ctrl-D.\", stacklevel=1)\n"
     ]
    }
   ],
   "source": []
  }
 ],
 "metadata": {
  "kernelspec": {
   "display_name": "Python 3 (ipykernel)",
   "language": "python",
   "name": "python3"
  },
  "language_info": {
   "codemirror_mode": {
    "name": "ipython",
    "version": 3
   },
   "file_extension": ".py",
   "mimetype": "text/x-python",
   "name": "python",
   "nbconvert_exporter": "python",
   "pygments_lexer": "ipython3",
   "version": "3.10.6"
  }
 },
 "nbformat": 4,
 "nbformat_minor": 5
}
